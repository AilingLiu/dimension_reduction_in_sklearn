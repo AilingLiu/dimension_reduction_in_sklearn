{
  "nbformat": 4,
  "nbformat_minor": 0,
  "metadata": {
    "colab": {
      "name": "dimension_reduction.ipynb",
      "provenance": [],
      "collapsed_sections": [],
      "include_colab_link": true
    },
    "kernelspec": {
      "name": "python3",
      "display_name": "Python 3"
    }
  },
  "cells": [
    {
      "cell_type": "markdown",
      "metadata": {
        "id": "view-in-github",
        "colab_type": "text"
      },
      "source": [
        "<a href=\"https://colab.research.google.com/github/AilingLiu/dimension_reduction_in_sklearn/blob/master/dimension_reduction.ipynb\" target=\"_parent\"><img src=\"https://colab.research.google.com/assets/colab-badge.svg\" alt=\"Open In Colab\"/></a>"
      ]
    },
    {
      "cell_type": "code",
      "metadata": {
        "id": "pK3jLfGFXhNy",
        "colab_type": "code",
        "colab": {}
      },
      "source": [
        ""
      ],
      "execution_count": 0,
      "outputs": []
    },
    {
      "cell_type": "markdown",
      "metadata": {
        "id": "OQFMwlHsXpMZ",
        "colab_type": "text"
      },
      "source": [
        "There are few ways to implement dimension reduction.\n",
        "\n",
        "1. using principle components to select d components that maximize variances of dataset\n",
        "2. using kernelpca to transform features into different distribution (rbf, sigmoid)\n",
        "3. using kmeans to reduce the dimensions into k clusters."
      ]
    },
    {
      "cell_type": "markdown",
      "metadata": {
        "id": "Mu3WzCIPabYD",
        "colab_type": "text"
      },
      "source": [
        "# Set up"
      ]
    },
    {
      "cell_type": "code",
      "metadata": {
        "id": "w4mSVIyFX-ll",
        "colab_type": "code",
        "colab": {}
      },
      "source": [
        "# Python ≥3.5 is required\n",
        "import sys\n",
        "assert sys.version_info >= (3, 5)\n",
        "\n",
        "# Scikit-Learn ≥0.20 is required\n",
        "import sklearn\n",
        "assert sklearn.__version__ >= \"0.20\"\n",
        "\n",
        "# Common imports\n",
        "import numpy as np\n",
        "import os\n",
        "\n",
        "# to make this notebook's output stable across runs\n",
        "np.random.seed(42)\n",
        "\n",
        "# To plot pretty figures\n",
        "%matplotlib inline\n",
        "import matplotlib as mpl\n",
        "import matplotlib.pyplot as plt\n",
        "mpl.rc('axes', labelsize=14)\n",
        "mpl.rc('xtick', labelsize=12)\n",
        "mpl.rc('ytick', labelsize=12)\n",
        "\n",
        "# Where to save the figures\n",
        "PROJECT_ROOT_DIR = \".\"\n",
        "CHAPTER_ID = \"dim_reduction\"\n",
        "IMAGES_PATH = os.path.join(PROJECT_ROOT_DIR, \"images\", CHAPTER_ID)\n",
        "os.makedirs(IMAGES_PATH, exist_ok=True)\n",
        "\n",
        "def save_fig(fig_id, tight_layout=True, fig_extension=\"png\", resolution=300):\n",
        "    path = os.path.join(IMAGES_PATH, fig_id + \".\" + fig_extension)\n",
        "    print(\"Saving figure\", fig_id)\n",
        "    if tight_layout:\n",
        "        plt.tight_layout()\n",
        "    plt.savefig(path, format=fig_extension, dpi=resolution)\n",
        "\n",
        "# Ignore useless warnings (see SciPy issue #5998)\n",
        "import warnings\n",
        "warnings.filterwarnings(action=\"ignore\", message=\"^internal gelsd\")"
      ],
      "execution_count": 0,
      "outputs": []
    },
    {
      "cell_type": "code",
      "metadata": {
        "id": "t0QnXoODadLJ",
        "colab_type": "code",
        "colab": {}
      },
      "source": [
        "# build a 3D dataset\n",
        "np.random.seed(4)\n",
        "m = 60\n",
        "w1, w2 = 0.1, 0.3\n",
        "noise = 0.1\n",
        "\n",
        "angles = np.random.rand(m) * 3 * np.pi / 2 - 0.5\n",
        "X = np.empty((m, 3))\n",
        "X[:, 0] = np.cos(angles) + np.sin(angles)/2 + noise * np.random.randn(m) / 2\n",
        "X[:, 1] = np.sin(angles) * 0.7 + noise * np.random.randn(m) / 2\n",
        "X[:, 2] = X[:, 0] * w1 + X[:, 1] * w2 + noise * np.random.randn(m)"
      ],
      "execution_count": 0,
      "outputs": []
    },
    {
      "cell_type": "code",
      "metadata": {
        "id": "GeUvlPR9auow",
        "colab_type": "code",
        "colab": {}
      },
      "source": [
        "# first centered the dataset, then get the Vt matrix that contains unit component\n",
        "# after that, multiply the original X matrix to get the principle component matrix at desied d dimension\n",
        "X_centered = X - X.mean(axis=0)\n",
        "U, s, Vt = np.linalg.svd(X_centered)\n",
        "c1 = Vt.T[:, 0] #first component unit\n",
        "c2 = Vt.T[:, 1] # secon component unit\n",
        "X2d = X_centered.dot(Vt.T[:, :2])"
      ],
      "execution_count": 0,
      "outputs": []
    },
    {
      "cell_type": "markdown",
      "metadata": {
        "id": "V381m_Jlbvc9",
        "colab_type": "text"
      },
      "source": [
        "# PCA using sklearn"
      ]
    },
    {
      "cell_type": "markdown",
      "metadata": {
        "id": "BNCFj0v6cDpi",
        "colab_type": "text"
      },
      "source": [
        "pca in sklearn has done the centered process."
      ]
    },
    {
      "cell_type": "code",
      "metadata": {
        "id": "C7Mg9uWXa_mL",
        "colab_type": "code",
        "colab": {}
      },
      "source": [
        "\n",
        "from sklearn.decomposition import PCA\n",
        "pca = PCA(n_components=2)\n",
        "X2d_sk = pca.fit_transform(X)"
      ],
      "execution_count": 0,
      "outputs": []
    },
    {
      "cell_type": "markdown",
      "metadata": {
        "id": "ZFaJAwSYcJm5",
        "colab_type": "text"
      },
      "source": [
        "We can check the variance of transformed space."
      ]
    },
    {
      "cell_type": "code",
      "metadata": {
        "id": "EL9ab7q9bANH",
        "colab_type": "code",
        "colab": {
          "base_uri": "https://localhost:8080/",
          "height": 35
        },
        "outputId": "700ebd68-28c8-4207-a877-dd3da5bd125a"
      },
      "source": [
        "pca.explained_variance_"
      ],
      "execution_count": 54,
      "outputs": [
        {
          "output_type": "execute_result",
          "data": {
            "text/plain": [
              "array([0.77830975, 0.1351726 ])"
            ]
          },
          "metadata": {
            "tags": []
          },
          "execution_count": 54
        }
      ]
    },
    {
      "cell_type": "code",
      "metadata": {
        "id": "0N59-q3njyPQ",
        "colab_type": "code",
        "colab": {
          "base_uri": "https://localhost:8080/",
          "height": 35
        },
        "outputId": "93885b83-5310-4714-8784-61a97dae1846"
      },
      "source": [
        "np.square(s) / np.square(s).sum()"
      ],
      "execution_count": 55,
      "outputs": [
        {
          "output_type": "execute_result",
          "data": {
            "text/plain": [
              "array([0.84248607, 0.14631839, 0.01119554])"
            ]
          },
          "metadata": {
            "tags": []
          },
          "execution_count": 55
        }
      ]
    },
    {
      "cell_type": "code",
      "metadata": {
        "id": "6tHQHS_5frSA",
        "colab_type": "code",
        "colab": {
          "base_uri": "https://localhost:8080/",
          "height": 35
        },
        "outputId": "eee4a51f-998d-446a-92b6-1ad94a850d45"
      },
      "source": [
        "1- pca.explained_variance_ratio_.sum()"
      ],
      "execution_count": 56,
      "outputs": [
        {
          "output_type": "execute_result",
          "data": {
            "text/plain": [
              "0.011195535570688975"
            ]
          },
          "metadata": {
            "tags": []
          },
          "execution_count": 56
        }
      ]
    },
    {
      "cell_type": "markdown",
      "metadata": {
        "id": "xpCBrIzccRiF",
        "colab_type": "text"
      },
      "source": [
        "The first component explains 78% of the dataset variance's and the second component explains 13.5%. This leaves less than 1.1% of varance remains in other components."
      ]
    },
    {
      "cell_type": "code",
      "metadata": {
        "id": "zOUs-VAAkey5",
        "colab_type": "code",
        "colab": {
          "base_uri": "https://localhost:8080/",
          "height": 35
        },
        "outputId": "3de4692f-0233-4836-8925-19db0e9038c2"
      },
      "source": [
        "np.allclose(X2d, -X2d_sk)"
      ],
      "execution_count": 58,
      "outputs": [
        {
          "output_type": "execute_result",
          "data": {
            "text/plain": [
              "True"
            ]
          },
          "metadata": {
            "tags": []
          },
          "execution_count": 58
        }
      ]
    },
    {
      "cell_type": "markdown",
      "metadata": {
        "id": "3vam_aocc4Iw",
        "colab_type": "text"
      },
      "source": [
        "We can define the best number of components by few methods:\n",
        "\n",
        "1. directly set the minimum variances you need\n",
        "2. check the accumulated variances plot and choose "
      ]
    },
    {
      "cell_type": "code",
      "metadata": {
        "id": "F5jrJ_CLdgmc",
        "colab_type": "code",
        "colab": {
          "base_uri": "https://localhost:8080/",
          "height": 35
        },
        "outputId": "1ce05245-6d9e-4f00-f146-f6860cb966f9"
      },
      "source": [
        "# or set the n_components from 0 to 1\n",
        "pca = PCA(n_components=0.95)\n",
        "pca.fit(X)\n",
        "np.cumsum(pca.explained_variance_ratio_)[-1]"
      ],
      "execution_count": 17,
      "outputs": [
        {
          "output_type": "execute_result",
          "data": {
            "text/plain": [
              "0.988804464429311"
            ]
          },
          "metadata": {
            "tags": []
          },
          "execution_count": 17
        }
      ]
    },
    {
      "cell_type": "code",
      "metadata": {
        "id": "bG-QDjYcefST",
        "colab_type": "code",
        "colab": {}
      },
      "source": [
        "# using plot\n",
        "\n",
        "from sklearn.datasets import fetch_openml\n",
        "\n",
        "mnist = fetch_openml('mnist_784', version=1)\n",
        "mnist.target = mnist.target.astype(np.uint8)\n"
      ],
      "execution_count": 0,
      "outputs": []
    },
    {
      "cell_type": "code",
      "metadata": {
        "id": "DA_NGsQNlivb",
        "colab_type": "code",
        "colab": {}
      },
      "source": [
        "X, y = mnist['data'], mnist['target']\n",
        "from sklearn.model_selection import train_test_split\n",
        "\n",
        "X_train, X_test, y_train, y_test = train_test_split(X, y, test_size=0.2, random_state=42)"
      ],
      "execution_count": 0,
      "outputs": []
    },
    {
      "cell_type": "code",
      "metadata": {
        "id": "zB7FqGCZmGG8",
        "colab_type": "code",
        "colab": {
          "base_uri": "https://localhost:8080/",
          "height": 35
        },
        "outputId": "b94af15f-6420-4a3d-cb84-b29bf4aaf47d"
      },
      "source": [
        "X_train.shape"
      ],
      "execution_count": 65,
      "outputs": [
        {
          "output_type": "execute_result",
          "data": {
            "text/plain": [
              "(56000, 784)"
            ]
          },
          "metadata": {
            "tags": []
          },
          "execution_count": 65
        }
      ]
    },
    {
      "cell_type": "code",
      "metadata": {
        "id": "cYOsswpDl6Up",
        "colab_type": "code",
        "colab": {
          "base_uri": "https://localhost:8080/",
          "height": 54
        },
        "outputId": "adb10daa-5633-49e9-b9e1-c9ed2f11c93b"
      },
      "source": [
        "pca_img = PCA()\n",
        "pca_img.fit(X_train)\n"
      ],
      "execution_count": 66,
      "outputs": [
        {
          "output_type": "execute_result",
          "data": {
            "text/plain": [
              "PCA(copy=True, iterated_power='auto', n_components=None, random_state=None,\n",
              "    svd_solver='auto', tol=0.0, whiten=False)"
            ]
          },
          "metadata": {
            "tags": []
          },
          "execution_count": 66
        }
      ]
    },
    {
      "cell_type": "code",
      "metadata": {
        "id": "r5j1a-3lmO0x",
        "colab_type": "code",
        "colab": {
          "base_uri": "https://localhost:8080/",
          "height": 459
        },
        "outputId": "89d1f4c9-2424-4610-e634-38f813335234"
      },
      "source": [
        "cumsum = np.cumsum(pca_img.explained_variance_ratio_)\n",
        "plt.figure(figsize=(8, 6))\n",
        "plt.plot(cumsum, linewidth=3)\n",
        "plt.grid(True)\n",
        "plt.xlabel('Dimensions', fontsize=12)\n",
        "plt.ylabel('Explained Variance', fontsize=12)\n",
        "plt.plot([150, 150], [0, cumsum[150]], 'k:')\n",
        "plt.plot([0, 150], [cumsum[150], cumsum[150]], 'k:')\n",
        "plt.axis([0, 400, 0, 1])\n",
        "plt.plot(150, cumsum[150], 'ko')\n",
        "save_fig('accumulated_explained_variance_of_dimensions')"
      ],
      "execution_count": 77,
      "outputs": [
        {
          "output_type": "stream",
          "text": [
            "Saving figure accumulated_explained_variance_of_dimensions\n"
          ],
          "name": "stdout"
        },
        {
          "output_type": "display_data",
          "data": {
            "image/png": "[encoded data removed]",
            "text/plain": [
              "<Figure size 576x432 with 1 Axes>"
            ]
          },
          "metadata": {
            "tags": []
          }
        }
      ]
    },
    {
      "cell_type": "code",
      "metadata": {
        "id": "zQOCRpGImVzA",
        "colab_type": "code",
        "colab": {}
      },
      "source": [
        "# inverse back to original\n",
        "pca = PCA(n_components=154)\n",
        "X_reduced = pca.fit_transform(X_train)\n",
        "X_recovered = pca.inverse_transform(X_reduced)"
      ],
      "execution_count": 0,
      "outputs": []
    },
    {
      "cell_type": "markdown",
      "metadata": {
        "id": "S7u6yDy9pV3X",
        "colab_type": "text"
      },
      "source": [
        "# KernelPCA"
      ]
    },
    {
      "cell_type": "code",
      "metadata": {
        "id": "RWMWlJ2wozuG",
        "colab_type": "code",
        "colab": {}
      },
      "source": [
        "from sklearn.datasets import make_swiss_roll\n",
        "X, t = make_swiss_roll(n_samples=1000, noise=0.2, random_state=42)"
      ],
      "execution_count": 0,
      "outputs": []
    },
    {
      "cell_type": "code",
      "metadata": {
        "id": "UE9j4r5rpXfV",
        "colab_type": "code",
        "colab": {
          "base_uri": "https://localhost:8080/",
          "height": 35
        },
        "outputId": "34ea89ed-53f2-4b5e-d94e-9403d76aa94d"
      },
      "source": [
        "X.shape"
      ],
      "execution_count": 81,
      "outputs": [
        {
          "output_type": "execute_result",
          "data": {
            "text/plain": [
              "(1000, 3)"
            ]
          },
          "metadata": {
            "tags": []
          },
          "execution_count": 81
        }
      ]
    },
    {
      "cell_type": "code",
      "metadata": {
        "id": "vbpZZn84pYc9",
        "colab_type": "code",
        "colab": {
          "base_uri": "https://localhost:8080/",
          "height": 35
        },
        "outputId": "7e8c81cb-6a11-49ba-d96f-3c82cc32fbd2"
      },
      "source": [
        "t.shape"
      ],
      "execution_count": 83,
      "outputs": [
        {
          "output_type": "execute_result",
          "data": {
            "text/plain": [
              "(1000,)"
            ]
          },
          "metadata": {
            "tags": []
          },
          "execution_count": 83
        }
      ]
    },
    {
      "cell_type": "code",
      "metadata": {
        "id": "qU2zQdw6rflD",
        "colab_type": "code",
        "colab": {}
      },
      "source": [
        "y = (t > 6.9).astype(np.int)"
      ],
      "execution_count": 0,
      "outputs": []
    },
    {
      "cell_type": "code",
      "metadata": {
        "id": "O4CWdHyxpaZG",
        "colab_type": "code",
        "colab": {
          "base_uri": "https://localhost:8080/",
          "height": 526
        },
        "outputId": "4e7ff644-565c-4a7d-9460-2c918091c6b4"
      },
      "source": [
        "from sklearn.decomposition import KernelPCA\n",
        "from sklearn.pipeline import Pipeline\n",
        "from sklearn.model_selection import GridSearchCV\n",
        "from sklearn.linear_model import LogisticRegression\n",
        "\n",
        "ker_pca = Pipeline([\n",
        "                    ('pca', KernelPCA(n_components=2)),\n",
        "                    ('clf', LogisticRegression(solver=\"lbfgs\"))\n",
        "])\n",
        "\n",
        "param_grid = [{\n",
        "    'pca__kernel': ['rbf', 'sigmoid'],\n",
        "    'pca__gamma':np.linspace(0.3, 0.5, 10)\n",
        "}]\n",
        "\n",
        "grid_ker_pca = GridSearchCV(ker_pca, param_grid=param_grid, cv=3)\n",
        "grid_ker_pca.fit(X, y)"
      ],
      "execution_count": 87,
      "outputs": [
        {
          "output_type": "execute_result",
          "data": {
            "text/plain": [
              "GridSearchCV(cv=3, error_score='raise-deprecating',\n",
              "             estimator=Pipeline(memory=None,\n",
              "                                steps=[('pca',\n",
              "                                        KernelPCA(alpha=1.0, coef0=1,\n",
              "                                                  copy_X=True, degree=3,\n",
              "                                                  eigen_solver='auto',\n",
              "                                                  fit_inverse_transform=False,\n",
              "                                                  gamma=None, kernel='linear',\n",
              "                                                  kernel_params=None,\n",
              "                                                  max_iter=None, n_components=2,\n",
              "                                                  n_jobs=None,\n",
              "                                                  random_state=None,\n",
              "                                                  remove_zero_eig=False,\n",
              "                                                  tol=0)),\n",
              "                                       ('clf',\n",
              "                                        LogisticRegressi...\n",
              "                                                           random_state=None,\n",
              "                                                           solver='lbfgs',\n",
              "                                                           tol=0.0001,\n",
              "                                                           verbose=0,\n",
              "                                                           warm_start=False))],\n",
              "                                verbose=False),\n",
              "             iid='warn', n_jobs=None,\n",
              "             param_grid=[{'pca__gamma': array([0.3       , 0.32222222, 0.34444444, 0.36666667, 0.38888889,\n",
              "       0.41111111, 0.43333333, 0.45555556, 0.47777778, 0.5       ]),\n",
              "                          'pca__kernel': ['rbf', 'sigmoid']}],\n",
              "             pre_dispatch='2*n_jobs', refit=True, return_train_score=False,\n",
              "             scoring=None, verbose=0)"
            ]
          },
          "metadata": {
            "tags": []
          },
          "execution_count": 87
        }
      ]
    },
    {
      "cell_type": "code",
      "metadata": {
        "id": "oQUuyEsIp1DZ",
        "colab_type": "code",
        "colab": {
          "base_uri": "https://localhost:8080/",
          "height": 35
        },
        "outputId": "e05288b9-bdd8-4148-8920-6a28cf1ae67b"
      },
      "source": [
        "grid_ker_pca.best_params_"
      ],
      "execution_count": 88,
      "outputs": [
        {
          "output_type": "execute_result",
          "data": {
            "text/plain": [
              "{'pca__gamma': 0.3, 'pca__kernel': 'rbf'}"
            ]
          },
          "metadata": {
            "tags": []
          },
          "execution_count": 88
        }
      ]
    },
    {
      "cell_type": "code",
      "metadata": {
        "id": "qbB97tVysL26",
        "colab_type": "code",
        "colab": {
          "base_uri": "https://localhost:8080/",
          "height": 35
        },
        "outputId": "1bf09176-7996-4e98-d278-1cea1e3ae989"
      },
      "source": [
        "# we can use the best parameters to transforme the dataset, and inverse transform to check its reconstruciton errors with the original dataset\n",
        "\n",
        "kpca_rbf = KernelPCA(n_components=2, kernel='rbf', gamma=0.3, fit_inverse_transform=True)\n",
        "X_reduced = kpca_rbf.fit_transform(X)\n",
        "X_recovered = kpca_rbf.inverse_transform(X_reduced)\n",
        "\n",
        "from sklearn.metrics import mean_squared_error\n",
        "mean_squared_error(X, X_recovered)"
      ],
      "execution_count": 91,
      "outputs": [
        {
          "output_type": "execute_result",
          "data": {
            "text/plain": [
              "41.163286391709306"
            ]
          },
          "metadata": {
            "tags": []
          },
          "execution_count": 91
        }
      ]
    },
    {
      "cell_type": "markdown",
      "metadata": {
        "id": "kqnKagqHtUiT",
        "colab_type": "text"
      },
      "source": [
        "# Other methods"
      ]
    },
    {
      "cell_type": "code",
      "metadata": {
        "id": "V-F4vMpdsl4R",
        "colab_type": "code",
        "colab": {}
      },
      "source": [
        "# t-sne\n",
        "\n",
        "from sklearn.manifold import TSNE\n",
        "tsne = TSNE(n_components=2)\n",
        "X_transformed = tsne.fit_transform(X)"
      ],
      "execution_count": 0,
      "outputs": []
    },
    {
      "cell_type": "code",
      "metadata": {
        "id": "ZxgHBmDXwGH7",
        "colab_type": "code",
        "colab": {}
      },
      "source": [
        "# isomap\n",
        "\n",
        "from sklearn.manifold import Isomap\n",
        "\n",
        "isomap = Isomap(n_components=2)\n",
        "X_reduced_isomap = isomap.fit_transform(X)"
      ],
      "execution_count": 0,
      "outputs": []
    },
    {
      "cell_type": "code",
      "metadata": {
        "id": "s-cOU0hHtSxK",
        "colab_type": "code",
        "colab": {
          "base_uri": "https://localhost:8080/",
          "height": 54
        },
        "outputId": "4a50f87f-0ec7-4c0c-f43c-0ec42948c905"
      },
      "source": [
        "# lda\n",
        "from sklearn.discriminant_analysis import LinearDiscriminantAnalysis\n",
        "\n",
        "lda = LinearDiscriminantAnalysis(n_components=2)\n",
        "X_mnist = mnist[\"data\"]\n",
        "y_mnist = mnist[\"target\"]\n",
        "lda.fit(X_mnist, y_mnist)\n",
        "X_reduced_lda = lda.transform(X_mnist)"
      ],
      "execution_count": 97,
      "outputs": [
        {
          "output_type": "stream",
          "text": [
            "/usr/local/lib/python3.6/dist-packages/sklearn/discriminant_analysis.py:388: UserWarning: Variables are collinear.\n",
            "  warnings.warn(\"Variables are collinear.\")\n"
          ],
          "name": "stderr"
        }
      ]
    },
    {
      "cell_type": "code",
      "metadata": {
        "id": "7DYOsnkUuDIT",
        "colab_type": "code",
        "colab": {
          "base_uri": "https://localhost:8080/",
          "height": 334
        },
        "outputId": "95ed6bbc-6ec3-477f-bab4-c219981773c3"
      },
      "source": [
        "titles = ['tsne', 'isomap']\n",
        "plt.figure(figsize=(10, 4))\n",
        "\n",
        "for subplot, title, X_reduced in zip((131, 132), titles, (X_transformed, X_reduced_isomap)):\n",
        "  plt.subplot(subplot)\n",
        "  plt.title(title)\n",
        "  plt.xlabel('$Z1$')\n",
        "  plt.scatter(X_reduced[:, 0], X_reduced[:, 1], c=t, cmap=plt.cm.hot)\n",
        "  if subplot==131:\n",
        "    plt.ylabel('$Z2$')\n",
        "  plt.grid()\n",
        "\n",
        "  save_fig('tsne_isomap_dimension_reduction')"
      ],
      "execution_count": 105,
      "outputs": [
        {
          "output_type": "stream",
          "text": [
            "Saving figure tsne_isomap_dimension_reduction\n",
            "Saving figure tsne_isomap_dimension_reduction\n"
          ],
          "name": "stdout"
        },
        {
          "output_type": "display_data",
          "data": {
            "image/png": "[encoded data removed]",
            "text/plain": [
              "<Figure size 720x288 with 2 Axes>"
            ]
          },
          "metadata": {
            "tags": []
          }
        }
      ]
    },
    {
      "cell_type": "code",
      "metadata": {
        "id": "G9vIpM_SvaT5",
        "colab_type": "code",
        "colab": {}
      },
      "source": [
        ""
      ],
      "execution_count": 0,
      "outputs": []
    }
  ]
}